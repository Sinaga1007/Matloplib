{
 "cells": [
  {
   "cell_type": "code",
   "execution_count": 1,
   "id": "146211e9",
   "metadata": {},
   "outputs": [],
   "source": [
    "#Terlebih dahulu mengimport modules\n",
    "\n",
    "%matplotlib inline #Berfungsi untuk melakukan re-direction dari output yang dihasilkan oleh matplotlib sehingga outputnya akan dimunculkan pada layar notebook yang sama"
   ]
  },
  {
   "cell_type": "code",
   "execution_count": 2,
   "id": "28f38521",
   "metadata": {},
   "outputs": [
    {
     "name": "stdout",
     "output_type": "stream",
     "text": [
      "3.3.4\n",
      "1.20.1\n"
     ]
    }
   ],
   "source": [
    "import matplotlib\n",
    "import matplotlib.pyplot as plt\n",
    "import numpy as np\n",
    "\n",
    "print(matplotlib.__version__)\n",
    "print(np.__version__)"
   ]
  },
  {
   "cell_type": "code",
   "execution_count": 3,
   "id": "a30a56f2",
   "metadata": {},
   "outputs": [
    {
     "data": {
      "text/plain": [
       "array([ 95.28890201,  96.74350808,  72.81377774, ..., 105.15086897,\n",
       "        86.52589596, 121.21841208])"
      ]
     },
     "execution_count": 3,
     "metadata": {},
     "output_type": "execute_result"
    }
   ],
   "source": [
    "#Sample Data\n",
    "\n",
    "mu, sigma = 100, 15 #nilai mean dan nilai standard deviation\n",
    "\n",
    "x = mu + sigma * np.random.randn(10000) #Sampel data yang membentuk normal distribution\n",
    "x"
   ]
  },
  {
   "cell_type": "code",
   "execution_count": 4,
   "id": "d6c419ac",
   "metadata": {},
   "outputs": [
    {
     "data": {
      "text/plain": [
       "(10000,)"
      ]
     },
     "execution_count": 4,
     "metadata": {},
     "output_type": "execute_result"
    }
   ],
   "source": [
    "x.shape #Jumlah data yang tersimpan dalam variabel x ada 10000"
   ]
  },
  {
   "cell_type": "code",
   "execution_count": 8,
   "id": "93e99241",
   "metadata": {},
   "outputs": [
    {
     "data": {
      "image/png": "[encoded data removed]",
      "text/plain": [
       "<Figure size 432x288 with 1 Axes>"
      ]
     },
     "metadata": {
      "needs_background": "light"
     },
     "output_type": "display_data"
    }
   ],
   "source": [
    "#Histogram dengan pyplot style\n",
    "\n",
    "plt.hist(x,               #Dlm pembuatan histogram setidaknya ada 2 persyaratan yaitu parameter 1 sebagai sampel data dan parameter 2 sebagai bins \n",
    "         bins=50,          #Fungsi bins untuk menentukan klasifikasi data / jumlah pengelompokan data\n",
    "         facecolor='g',\n",
    "         alpha=0.75)  #Parameter ini digunakan untuk mengatur transparansi\n",
    "plt.xlabel('Sumbu X')\n",
    "plt.ylabel('Sumbu Y')\n",
    "plt.title('Contoh Histogram')\n",
    "\n",
    "plt.text(45, 500, r'$\\mu=100,\\ \\sigma=15$')\n",
    "plt.grid()\n",
    "\n",
    "plt.show()"
   ]
  },
  {
   "cell_type": "code",
   "execution_count": 16,
   "id": "a31bf99b",
   "metadata": {},
   "outputs": [
    {
     "data": {
      "image/png": "[encoded data removed]",
      "text/plain": [
       "<Figure size 432x288 with 1 Axes>"
      ]
     },
     "metadata": {
      "needs_background": "light"
     },
     "output_type": "display_data"
    }
   ],
   "source": [
    "#Histogram dengan OO Style\n",
    "\n",
    "fig, ax = plt.subplots() #Untuk menampilkan histogram dengan OO style setidaknya membutuhkan 2 variabel yaitu fig dan ax.\n",
    "\n",
    "ax.hist(x,                #Dlm pembuatan histogram setidaknya ada 2 persyaratan yaitu parameter 1 sebagai sampel data dan parameter 2 sebagai bins \n",
    "        bins=50,          #Fungsi bins untuk menentukan klasifikasi data / jumlah pengelompokan data\n",
    "        facecolor='b',    #Untuk mengatur warna\n",
    "        alpha=0.25)       #Parameter ini digunakan untuk mengatur transparansi\n",
    "\n",
    "ax.set_xlabel('Sumbu X')\n",
    "ax.set_ylabel('Sumbu Y')\n",
    "ax.set_title('Contoh Histogram')\n",
    "\n",
    "ax.text(45, 500, r'$\\mu=100,\\ \\sigma=15$')\n",
    "ax.grid()\n",
    "\n",
    "plt.show()"
   ]
  },
  {
   "cell_type": "code",
   "execution_count": null,
   "id": "e556a2be",
   "metadata": {},
   "outputs": [],
   "source": []
  }
 ],
 "metadata": {
  "kernelspec": {
   "display_name": "Python 3",
   "language": "python",
   "name": "python3"
  },
  "language_info": {
   "codemirror_mode": {
    "name": "ipython",
    "version": 3
   },
   "file_extension": ".py",
   "mimetype": "text/x-python",
   "name": "python",
   "nbconvert_exporter": "python",
   "pygments_lexer": "ipython3",
   "version": "3.8.8"
  }
 },
 "nbformat": 4,
 "nbformat_minor": 5
}
